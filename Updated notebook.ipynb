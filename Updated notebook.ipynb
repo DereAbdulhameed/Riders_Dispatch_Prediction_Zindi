{
 "cells": [
  {
   "cell_type": "markdown",
   "metadata": {
    "id": "trFRqFe0KC76"
   },
   "source": [
    "# Simple Starter Notebook for;\n",
    "## UmojaHack Africa 2021 #2: Sendy - Delivery Rider Response Challenge by UmojaHack Africa\n",
    "\n",
    "Can you predict who is the best delivery rider for an order placed via logistics company Sendy?\n",
    "\n",
    "![Umoja Hack](https://zindpublic.blob.core.windows.net/public/uploads/competition/image/152/thumb_c5ec4e2a-e000-4176-a93c-dd1143c2b60f.png)\n",
    "\n",
    "The objective of this challenge is to create a machine learning model that will predict whether a rider will accept, decline or ignore an order sent to them."
   ]
  },
  {
   "cell_type": "code",
   "execution_count": 91,
   "metadata": {
    "id": "YBArGtJwFzwO"
   },
   "outputs": [],
   "source": [
    "# Import libraries\n",
    "import pandas as pd\n",
    "import numpy as np\n",
    "from sklearn.model_selection import train_test_split\n",
    "from lightgbm import LGBMClassifier\n",
    "from sklearn.metrics import accuracy_score"
   ]
  },
  {
   "cell_type": "code",
   "execution_count": 83,
   "metadata": {
    "id": "A1Nlsw9lGHTB"
   },
   "outputs": [],
   "source": [
    "# Load files\n",
    "train = pd.read_csv('Train.csv')\n",
    "test = pd.read_csv('Test.csv')\n",
    "riders = pd.read_csv('Riders.csv')\n",
    "ss = pd.read_csv('SampleSubmission.csv')"
   ]
  },
  {
   "cell_type": "code",
   "execution_count": 24,
   "metadata": {
    "colab": {
     "base_uri": "https://localhost:8080/"
    },
    "id": "a7Jni6DMGVKd",
    "outputId": "885acd22-6f8a-4208-8a46-afb6157c64c6"
   },
   "outputs": [
    {
     "data": {
      "text/plain": [
       "((179867, 21), (76791, 20), (2632, 4), (76791, 2))"
      ]
     },
     "execution_count": 24,
     "metadata": {},
     "output_type": "execute_result"
    }
   ],
   "source": [
    "# check data shapes\n",
    "train.shape, test.shape, riders.shape, ss.shape"
   ]
  },
  {
   "cell_type": "code",
   "execution_count": 25,
   "metadata": {
    "colab": {
     "base_uri": "https://localhost:8080/",
     "height": 215
    },
    "id": "LRHncK2pHSmR",
    "outputId": "b0338adc-d0af-4262-8718-27f39ddae721"
   },
   "outputs": [
    {
     "data": {
      "text/html": [
       "<div>\n",
       "<style scoped>\n",
       "    .dataframe tbody tr th:only-of-type {\n",
       "        vertical-align: middle;\n",
       "    }\n",
       "\n",
       "    .dataframe tbody tr th {\n",
       "        vertical-align: top;\n",
       "    }\n",
       "\n",
       "    .dataframe thead th {\n",
       "        text-align: right;\n",
       "    }\n",
       "</style>\n",
       "<table border=\"1\" class=\"dataframe\">\n",
       "  <thead>\n",
       "    <tr style=\"text-align: right;\">\n",
       "      <th></th>\n",
       "      <th>ID</th>\n",
       "      <th>order_id</th>\n",
       "      <th>dispatch_day</th>\n",
       "      <th>dispatch_day_of_week</th>\n",
       "      <th>dispatch_time</th>\n",
       "      <th>client_id</th>\n",
       "      <th>client_type</th>\n",
       "      <th>order_license_status</th>\n",
       "      <th>order_carrier_type</th>\n",
       "      <th>vendor_type</th>\n",
       "      <th>...</th>\n",
       "      <th>rider_license_status</th>\n",
       "      <th>rider_carrier_type</th>\n",
       "      <th>rider_amount</th>\n",
       "      <th>rider_lat</th>\n",
       "      <th>rider_long</th>\n",
       "      <th>pickup_lat</th>\n",
       "      <th>pickup_long</th>\n",
       "      <th>drop_off_lat</th>\n",
       "      <th>drop_off_long</th>\n",
       "      <th>target</th>\n",
       "    </tr>\n",
       "  </thead>\n",
       "  <tbody>\n",
       "    <tr>\n",
       "      <th>0</th>\n",
       "      <td>ID_SCUW21PVAU</td>\n",
       "      <td>4435</td>\n",
       "      <td>27</td>\n",
       "      <td>6</td>\n",
       "      <td>09:02:54</td>\n",
       "      <td>593630</td>\n",
       "      <td>Business</td>\n",
       "      <td>0</td>\n",
       "      <td>2</td>\n",
       "      <td>Bike</td>\n",
       "      <td>...</td>\n",
       "      <td>0</td>\n",
       "      <td>1</td>\n",
       "      <td>1080</td>\n",
       "      <td>-42.698343</td>\n",
       "      <td>-17.228539</td>\n",
       "      <td>-42.692371</td>\n",
       "      <td>-17.248305</td>\n",
       "      <td>-42.687442</td>\n",
       "      <td>-17.424682</td>\n",
       "      <td>1</td>\n",
       "    </tr>\n",
       "    <tr>\n",
       "      <th>1</th>\n",
       "      <td>ID_2HA7X30JMN</td>\n",
       "      <td>32711</td>\n",
       "      <td>30</td>\n",
       "      <td>7</td>\n",
       "      <td>13:01:37</td>\n",
       "      <td>837729</td>\n",
       "      <td>Personal</td>\n",
       "      <td>0</td>\n",
       "      <td>1</td>\n",
       "      <td>Bike</td>\n",
       "      <td>...</td>\n",
       "      <td>0</td>\n",
       "      <td>1</td>\n",
       "      <td>730</td>\n",
       "      <td>-42.787317</td>\n",
       "      <td>-17.288252</td>\n",
       "      <td>-42.784046</td>\n",
       "      <td>-17.290121</td>\n",
       "      <td>-42.673267</td>\n",
       "      <td>-17.234595</td>\n",
       "      <td>2</td>\n",
       "    </tr>\n",
       "    <tr>\n",
       "      <th>2</th>\n",
       "      <td>ID_IAJWDTBY6M</td>\n",
       "      <td>8712</td>\n",
       "      <td>14</td>\n",
       "      <td>2</td>\n",
       "      <td>10:01:00</td>\n",
       "      <td>695129</td>\n",
       "      <td>Personal</td>\n",
       "      <td>0</td>\n",
       "      <td>2</td>\n",
       "      <td>Bike</td>\n",
       "      <td>...</td>\n",
       "      <td>1</td>\n",
       "      <td>1</td>\n",
       "      <td>490</td>\n",
       "      <td>-42.749180</td>\n",
       "      <td>-17.287848</td>\n",
       "      <td>-42.765204</td>\n",
       "      <td>-17.293784</td>\n",
       "      <td>-42.813953</td>\n",
       "      <td>-17.294805</td>\n",
       "      <td>1</td>\n",
       "    </tr>\n",
       "    <tr>\n",
       "      <th>3</th>\n",
       "      <td>ID_LKSVPNYMTR</td>\n",
       "      <td>44869</td>\n",
       "      <td>22</td>\n",
       "      <td>3</td>\n",
       "      <td>14:11:16</td>\n",
       "      <td>1504660</td>\n",
       "      <td>Personal</td>\n",
       "      <td>0</td>\n",
       "      <td>2</td>\n",
       "      <td>Bike</td>\n",
       "      <td>...</td>\n",
       "      <td>1</td>\n",
       "      <td>1</td>\n",
       "      <td>510</td>\n",
       "      <td>-42.836266</td>\n",
       "      <td>-17.311920</td>\n",
       "      <td>-42.831913</td>\n",
       "      <td>-17.315311</td>\n",
       "      <td>-42.812409</td>\n",
       "      <td>-17.265441</td>\n",
       "      <td>2</td>\n",
       "    </tr>\n",
       "    <tr>\n",
       "      <th>4</th>\n",
       "      <td>ID_O7N8Y918YH</td>\n",
       "      <td>57590</td>\n",
       "      <td>27</td>\n",
       "      <td>5</td>\n",
       "      <td>16:11:38</td>\n",
       "      <td>36869</td>\n",
       "      <td>Business</td>\n",
       "      <td>0</td>\n",
       "      <td>2</td>\n",
       "      <td>Bike</td>\n",
       "      <td>...</td>\n",
       "      <td>0</td>\n",
       "      <td>0</td>\n",
       "      <td>400</td>\n",
       "      <td>-42.828195</td>\n",
       "      <td>-17.322818</td>\n",
       "      <td>-42.836056</td>\n",
       "      <td>-17.318111</td>\n",
       "      <td>-42.828517</td>\n",
       "      <td>-17.302052</td>\n",
       "      <td>0</td>\n",
       "    </tr>\n",
       "  </tbody>\n",
       "</table>\n",
       "<p>5 rows × 21 columns</p>\n",
       "</div>"
      ],
      "text/plain": [
       "              ID  order_id  dispatch_day  dispatch_day_of_week dispatch_time  \\\n",
       "0  ID_SCUW21PVAU      4435            27                     6      09:02:54   \n",
       "1  ID_2HA7X30JMN     32711            30                     7      13:01:37   \n",
       "2  ID_IAJWDTBY6M      8712            14                     2      10:01:00   \n",
       "3  ID_LKSVPNYMTR     44869            22                     3      14:11:16   \n",
       "4  ID_O7N8Y918YH     57590            27                     5      16:11:38   \n",
       "\n",
       "   client_id client_type  order_license_status  order_carrier_type  \\\n",
       "0     593630    Business                     0                   2   \n",
       "1     837729    Personal                     0                   1   \n",
       "2     695129    Personal                     0                   2   \n",
       "3    1504660    Personal                     0                   2   \n",
       "4      36869    Business                     0                   2   \n",
       "\n",
       "  vendor_type  ...  rider_license_status  rider_carrier_type  rider_amount  \\\n",
       "0        Bike  ...                     0                   1          1080   \n",
       "1        Bike  ...                     0                   1           730   \n",
       "2        Bike  ...                     1                   1           490   \n",
       "3        Bike  ...                     1                   1           510   \n",
       "4        Bike  ...                     0                   0           400   \n",
       "\n",
       "   rider_lat  rider_long  pickup_lat  pickup_long  drop_off_lat  \\\n",
       "0 -42.698343  -17.228539  -42.692371   -17.248305    -42.687442   \n",
       "1 -42.787317  -17.288252  -42.784046   -17.290121    -42.673267   \n",
       "2 -42.749180  -17.287848  -42.765204   -17.293784    -42.813953   \n",
       "3 -42.836266  -17.311920  -42.831913   -17.315311    -42.812409   \n",
       "4 -42.828195  -17.322818  -42.836056   -17.318111    -42.828517   \n",
       "\n",
       "   drop_off_long  target  \n",
       "0     -17.424682       1  \n",
       "1     -17.234595       2  \n",
       "2     -17.294805       1  \n",
       "3     -17.265441       2  \n",
       "4     -17.302052       0  \n",
       "\n",
       "[5 rows x 21 columns]"
      ]
     },
     "execution_count": 25,
     "metadata": {},
     "output_type": "execute_result"
    }
   ],
   "source": [
    "# Preview train\n",
    "train.head()"
   ]
  },
  {
   "cell_type": "code",
   "execution_count": 26,
   "metadata": {
    "scrolled": true
   },
   "outputs": [
    {
     "data": {
      "text/html": [
       "<div>\n",
       "<style scoped>\n",
       "    .dataframe tbody tr th:only-of-type {\n",
       "        vertical-align: middle;\n",
       "    }\n",
       "\n",
       "    .dataframe tbody tr th {\n",
       "        vertical-align: top;\n",
       "    }\n",
       "\n",
       "    .dataframe thead th {\n",
       "        text-align: right;\n",
       "    }\n",
       "</style>\n",
       "<table border=\"1\" class=\"dataframe\">\n",
       "  <thead>\n",
       "    <tr style=\"text-align: right;\">\n",
       "      <th></th>\n",
       "      <th>ID</th>\n",
       "      <th>order_id</th>\n",
       "      <th>dispatch_day</th>\n",
       "      <th>dispatch_day_of_week</th>\n",
       "      <th>dispatch_time</th>\n",
       "      <th>client_id</th>\n",
       "      <th>client_type</th>\n",
       "      <th>order_license_status</th>\n",
       "      <th>order_carrier_type</th>\n",
       "      <th>vendor_type</th>\n",
       "      <th>rider_id</th>\n",
       "      <th>rider_license_status</th>\n",
       "      <th>rider_carrier_type</th>\n",
       "      <th>rider_amount</th>\n",
       "      <th>rider_lat</th>\n",
       "      <th>rider_long</th>\n",
       "      <th>pickup_lat</th>\n",
       "      <th>pickup_long</th>\n",
       "      <th>drop_off_lat</th>\n",
       "      <th>drop_off_long</th>\n",
       "    </tr>\n",
       "  </thead>\n",
       "  <tbody>\n",
       "    <tr>\n",
       "      <th>0</th>\n",
       "      <td>ID_3B4D2Q2DSI</td>\n",
       "      <td>28636</td>\n",
       "      <td>2</td>\n",
       "      <td>6</td>\n",
       "      <td>12:10:59</td>\n",
       "      <td>593630</td>\n",
       "      <td>Business</td>\n",
       "      <td>0</td>\n",
       "      <td>2</td>\n",
       "      <td>Bike</td>\n",
       "      <td>57224</td>\n",
       "      <td>1</td>\n",
       "      <td>1</td>\n",
       "      <td>450</td>\n",
       "      <td>-42.912776</td>\n",
       "      <td>-17.265738</td>\n",
       "      <td>-42.881861</td>\n",
       "      <td>-17.280865</td>\n",
       "      <td>-42.880476</td>\n",
       "      <td>-17.230240</td>\n",
       "    </tr>\n",
       "    <tr>\n",
       "      <th>1</th>\n",
       "      <td>ID_7MPWFJ9XFI</td>\n",
       "      <td>60465</td>\n",
       "      <td>11</td>\n",
       "      <td>4</td>\n",
       "      <td>17:10:03</td>\n",
       "      <td>2378775</td>\n",
       "      <td>Personal</td>\n",
       "      <td>1</td>\n",
       "      <td>2</td>\n",
       "      <td>Bike</td>\n",
       "      <td>106329</td>\n",
       "      <td>1</td>\n",
       "      <td>1</td>\n",
       "      <td>560</td>\n",
       "      <td>-42.831932</td>\n",
       "      <td>-17.284140</td>\n",
       "      <td>-42.829545</td>\n",
       "      <td>-17.279453</td>\n",
       "      <td>-42.851920</td>\n",
       "      <td>-17.314558</td>\n",
       "    </tr>\n",
       "    <tr>\n",
       "      <th>2</th>\n",
       "      <td>ID_5VVT3Q3M5B</td>\n",
       "      <td>25249</td>\n",
       "      <td>30</td>\n",
       "      <td>3</td>\n",
       "      <td>12:02:01</td>\n",
       "      <td>2121681</td>\n",
       "      <td>Personal</td>\n",
       "      <td>0</td>\n",
       "      <td>2</td>\n",
       "      <td>Bike</td>\n",
       "      <td>90551</td>\n",
       "      <td>0</td>\n",
       "      <td>0</td>\n",
       "      <td>450</td>\n",
       "      <td>-42.806437</td>\n",
       "      <td>-17.285166</td>\n",
       "      <td>-42.810915</td>\n",
       "      <td>-17.291086</td>\n",
       "      <td>-42.807165</td>\n",
       "      <td>-17.253860</td>\n",
       "    </tr>\n",
       "    <tr>\n",
       "      <th>3</th>\n",
       "      <td>ID_C2GTVS1H7K</td>\n",
       "      <td>21224</td>\n",
       "      <td>27</td>\n",
       "      <td>2</td>\n",
       "      <td>11:10:32</td>\n",
       "      <td>38801</td>\n",
       "      <td>Business</td>\n",
       "      <td>0</td>\n",
       "      <td>2</td>\n",
       "      <td>Bike</td>\n",
       "      <td>90482</td>\n",
       "      <td>1</td>\n",
       "      <td>1</td>\n",
       "      <td>440</td>\n",
       "      <td>-42.828448</td>\n",
       "      <td>-17.301909</td>\n",
       "      <td>-42.828517</td>\n",
       "      <td>-17.302052</td>\n",
       "      <td>-42.795516</td>\n",
       "      <td>-17.287921</td>\n",
       "    </tr>\n",
       "    <tr>\n",
       "      <th>4</th>\n",
       "      <td>ID_0YGC8V3PFT</td>\n",
       "      <td>58287</td>\n",
       "      <td>14</td>\n",
       "      <td>6</td>\n",
       "      <td>16:12:55</td>\n",
       "      <td>153111</td>\n",
       "      <td>Business</td>\n",
       "      <td>0</td>\n",
       "      <td>2</td>\n",
       "      <td>Bike</td>\n",
       "      <td>101959</td>\n",
       "      <td>1</td>\n",
       "      <td>1</td>\n",
       "      <td>500</td>\n",
       "      <td>-42.808912</td>\n",
       "      <td>-17.259955</td>\n",
       "      <td>-42.805154</td>\n",
       "      <td>-17.262939</td>\n",
       "      <td>-42.706475</td>\n",
       "      <td>-17.257454</td>\n",
       "    </tr>\n",
       "  </tbody>\n",
       "</table>\n",
       "</div>"
      ],
      "text/plain": [
       "              ID  order_id  dispatch_day  dispatch_day_of_week dispatch_time  \\\n",
       "0  ID_3B4D2Q2DSI     28636             2                     6      12:10:59   \n",
       "1  ID_7MPWFJ9XFI     60465            11                     4      17:10:03   \n",
       "2  ID_5VVT3Q3M5B     25249            30                     3      12:02:01   \n",
       "3  ID_C2GTVS1H7K     21224            27                     2      11:10:32   \n",
       "4  ID_0YGC8V3PFT     58287            14                     6      16:12:55   \n",
       "\n",
       "   client_id client_type  order_license_status  order_carrier_type  \\\n",
       "0     593630    Business                     0                   2   \n",
       "1    2378775    Personal                     1                   2   \n",
       "2    2121681    Personal                     0                   2   \n",
       "3      38801    Business                     0                   2   \n",
       "4     153111    Business                     0                   2   \n",
       "\n",
       "  vendor_type  rider_id  rider_license_status  rider_carrier_type  \\\n",
       "0        Bike     57224                     1                   1   \n",
       "1        Bike    106329                     1                   1   \n",
       "2        Bike     90551                     0                   0   \n",
       "3        Bike     90482                     1                   1   \n",
       "4        Bike    101959                     1                   1   \n",
       "\n",
       "   rider_amount  rider_lat  rider_long  pickup_lat  pickup_long  drop_off_lat  \\\n",
       "0           450 -42.912776  -17.265738  -42.881861   -17.280865    -42.880476   \n",
       "1           560 -42.831932  -17.284140  -42.829545   -17.279453    -42.851920   \n",
       "2           450 -42.806437  -17.285166  -42.810915   -17.291086    -42.807165   \n",
       "3           440 -42.828448  -17.301909  -42.828517   -17.302052    -42.795516   \n",
       "4           500 -42.808912  -17.259955  -42.805154   -17.262939    -42.706475   \n",
       "\n",
       "   drop_off_long  \n",
       "0     -17.230240  \n",
       "1     -17.314558  \n",
       "2     -17.253860  \n",
       "3     -17.287921  \n",
       "4     -17.257454  "
      ]
     },
     "execution_count": 26,
     "metadata": {},
     "output_type": "execute_result"
    }
   ],
   "source": [
    "# Preview test\n",
    "test.head()"
   ]
  },
  {
   "cell_type": "code",
   "execution_count": 27,
   "metadata": {
    "colab": {
     "base_uri": "https://localhost:8080/",
     "height": 195
    },
    "id": "E2paz6AQHUtB",
    "outputId": "bc5801a9-6860-49fa-bd74-e6b7005ee4cd"
   },
   "outputs": [
    {
     "data": {
      "text/html": [
       "<div>\n",
       "<style scoped>\n",
       "    .dataframe tbody tr th:only-of-type {\n",
       "        vertical-align: middle;\n",
       "    }\n",
       "\n",
       "    .dataframe tbody tr th {\n",
       "        vertical-align: top;\n",
       "    }\n",
       "\n",
       "    .dataframe thead th {\n",
       "        text-align: right;\n",
       "    }\n",
       "</style>\n",
       "<table border=\"1\" class=\"dataframe\">\n",
       "  <thead>\n",
       "    <tr style=\"text-align: right;\">\n",
       "      <th></th>\n",
       "      <th>Rider ID</th>\n",
       "      <th>Active Rider Age</th>\n",
       "      <th>Average Partner Rating</th>\n",
       "      <th>Number of Ratings</th>\n",
       "    </tr>\n",
       "  </thead>\n",
       "  <tbody>\n",
       "    <tr>\n",
       "      <th>0</th>\n",
       "      <td>16261</td>\n",
       "      <td>308</td>\n",
       "      <td>21.05</td>\n",
       "      <td>321</td>\n",
       "    </tr>\n",
       "    <tr>\n",
       "      <th>1</th>\n",
       "      <td>8832</td>\n",
       "      <td>224</td>\n",
       "      <td>10.00</td>\n",
       "      <td>27</td>\n",
       "    </tr>\n",
       "    <tr>\n",
       "      <th>2</th>\n",
       "      <td>53866</td>\n",
       "      <td>238</td>\n",
       "      <td>17.76</td>\n",
       "      <td>25</td>\n",
       "    </tr>\n",
       "    <tr>\n",
       "      <th>3</th>\n",
       "      <td>46368</td>\n",
       "      <td>343</td>\n",
       "      <td>24.56</td>\n",
       "      <td>320</td>\n",
       "    </tr>\n",
       "    <tr>\n",
       "      <th>4</th>\n",
       "      <td>45609</td>\n",
       "      <td>399</td>\n",
       "      <td>14.97</td>\n",
       "      <td>214</td>\n",
       "    </tr>\n",
       "  </tbody>\n",
       "</table>\n",
       "</div>"
      ],
      "text/plain": [
       "   Rider ID  Active Rider Age  Average Partner Rating  Number of Ratings\n",
       "0     16261               308                   21.05                321\n",
       "1      8832               224                   10.00                 27\n",
       "2     53866               238                   17.76                 25\n",
       "3     46368               343                   24.56                320\n",
       "4     45609               399                   14.97                214"
      ]
     },
     "execution_count": 27,
     "metadata": {},
     "output_type": "execute_result"
    }
   ],
   "source": [
    "# Preview riders\n",
    "riders.head()"
   ]
  },
  {
   "cell_type": "code",
   "execution_count": 84,
   "metadata": {
    "colab": {
     "base_uri": "https://localhost:8080/",
     "height": 249
    },
    "id": "_4cigp83GcVA",
    "outputId": "cca64384-8b9e-41be-99f6-d2f47308cf47"
   },
   "outputs": [
    {
     "data": {
      "text/html": [
       "<div>\n",
       "<style scoped>\n",
       "    .dataframe tbody tr th:only-of-type {\n",
       "        vertical-align: middle;\n",
       "    }\n",
       "\n",
       "    .dataframe tbody tr th {\n",
       "        vertical-align: top;\n",
       "    }\n",
       "\n",
       "    .dataframe thead th {\n",
       "        text-align: right;\n",
       "    }\n",
       "</style>\n",
       "<table border=\"1\" class=\"dataframe\">\n",
       "  <thead>\n",
       "    <tr style=\"text-align: right;\">\n",
       "      <th></th>\n",
       "      <th>ID</th>\n",
       "      <th>order_id</th>\n",
       "      <th>dispatch_day</th>\n",
       "      <th>dispatch_day_of_week</th>\n",
       "      <th>dispatch_time</th>\n",
       "      <th>client_id</th>\n",
       "      <th>client_type</th>\n",
       "      <th>order_license_status</th>\n",
       "      <th>order_carrier_type</th>\n",
       "      <th>vendor_type</th>\n",
       "      <th>...</th>\n",
       "      <th>rider_long</th>\n",
       "      <th>pickup_lat</th>\n",
       "      <th>pickup_long</th>\n",
       "      <th>drop_off_lat</th>\n",
       "      <th>drop_off_long</th>\n",
       "      <th>target</th>\n",
       "      <th>Rider ID</th>\n",
       "      <th>Active Rider Age</th>\n",
       "      <th>Average Partner Rating</th>\n",
       "      <th>Number of Ratings</th>\n",
       "    </tr>\n",
       "  </thead>\n",
       "  <tbody>\n",
       "    <tr>\n",
       "      <th>0</th>\n",
       "      <td>ID_SCUW21PVAU</td>\n",
       "      <td>4435</td>\n",
       "      <td>27</td>\n",
       "      <td>6</td>\n",
       "      <td>09:02:54</td>\n",
       "      <td>593630</td>\n",
       "      <td>Business</td>\n",
       "      <td>0</td>\n",
       "      <td>2</td>\n",
       "      <td>Bike</td>\n",
       "      <td>...</td>\n",
       "      <td>-17.228539</td>\n",
       "      <td>-42.692371</td>\n",
       "      <td>-17.248305</td>\n",
       "      <td>-42.687442</td>\n",
       "      <td>-17.424682</td>\n",
       "      <td>1</td>\n",
       "      <td>30153</td>\n",
       "      <td>11</td>\n",
       "      <td>10.00</td>\n",
       "      <td>1</td>\n",
       "    </tr>\n",
       "    <tr>\n",
       "      <th>1</th>\n",
       "      <td>ID_2HA7X30JMN</td>\n",
       "      <td>32711</td>\n",
       "      <td>30</td>\n",
       "      <td>7</td>\n",
       "      <td>13:01:37</td>\n",
       "      <td>837729</td>\n",
       "      <td>Personal</td>\n",
       "      <td>0</td>\n",
       "      <td>1</td>\n",
       "      <td>Bike</td>\n",
       "      <td>...</td>\n",
       "      <td>-17.288252</td>\n",
       "      <td>-42.784046</td>\n",
       "      <td>-17.290121</td>\n",
       "      <td>-42.673267</td>\n",
       "      <td>-17.234595</td>\n",
       "      <td>2</td>\n",
       "      <td>20884</td>\n",
       "      <td>68</td>\n",
       "      <td>24.13</td>\n",
       "      <td>229</td>\n",
       "    </tr>\n",
       "    <tr>\n",
       "      <th>2</th>\n",
       "      <td>ID_IAJWDTBY6M</td>\n",
       "      <td>8712</td>\n",
       "      <td>14</td>\n",
       "      <td>2</td>\n",
       "      <td>10:01:00</td>\n",
       "      <td>695129</td>\n",
       "      <td>Personal</td>\n",
       "      <td>0</td>\n",
       "      <td>2</td>\n",
       "      <td>Bike</td>\n",
       "      <td>...</td>\n",
       "      <td>-17.287848</td>\n",
       "      <td>-42.765204</td>\n",
       "      <td>-17.293784</td>\n",
       "      <td>-42.813953</td>\n",
       "      <td>-17.294805</td>\n",
       "      <td>1</td>\n",
       "      <td>33143</td>\n",
       "      <td>273</td>\n",
       "      <td>24.92</td>\n",
       "      <td>123</td>\n",
       "    </tr>\n",
       "    <tr>\n",
       "      <th>3</th>\n",
       "      <td>ID_LKSVPNYMTR</td>\n",
       "      <td>44869</td>\n",
       "      <td>22</td>\n",
       "      <td>3</td>\n",
       "      <td>14:11:16</td>\n",
       "      <td>1504660</td>\n",
       "      <td>Personal</td>\n",
       "      <td>0</td>\n",
       "      <td>2</td>\n",
       "      <td>Bike</td>\n",
       "      <td>...</td>\n",
       "      <td>-17.311920</td>\n",
       "      <td>-42.831913</td>\n",
       "      <td>-17.315311</td>\n",
       "      <td>-42.812409</td>\n",
       "      <td>-17.265441</td>\n",
       "      <td>2</td>\n",
       "      <td>96531</td>\n",
       "      <td>168</td>\n",
       "      <td>23.76</td>\n",
       "      <td>175</td>\n",
       "    </tr>\n",
       "    <tr>\n",
       "      <th>4</th>\n",
       "      <td>ID_O7N8Y918YH</td>\n",
       "      <td>57590</td>\n",
       "      <td>27</td>\n",
       "      <td>5</td>\n",
       "      <td>16:11:38</td>\n",
       "      <td>36869</td>\n",
       "      <td>Business</td>\n",
       "      <td>0</td>\n",
       "      <td>2</td>\n",
       "      <td>Bike</td>\n",
       "      <td>...</td>\n",
       "      <td>-17.322818</td>\n",
       "      <td>-42.836056</td>\n",
       "      <td>-17.318111</td>\n",
       "      <td>-42.828517</td>\n",
       "      <td>-17.302052</td>\n",
       "      <td>0</td>\n",
       "      <td>103546</td>\n",
       "      <td>95</td>\n",
       "      <td>24.53</td>\n",
       "      <td>42</td>\n",
       "    </tr>\n",
       "  </tbody>\n",
       "</table>\n",
       "<p>5 rows × 25 columns</p>\n",
       "</div>"
      ],
      "text/plain": [
       "              ID  order_id  dispatch_day  dispatch_day_of_week dispatch_time  \\\n",
       "0  ID_SCUW21PVAU      4435            27                     6      09:02:54   \n",
       "1  ID_2HA7X30JMN     32711            30                     7      13:01:37   \n",
       "2  ID_IAJWDTBY6M      8712            14                     2      10:01:00   \n",
       "3  ID_LKSVPNYMTR     44869            22                     3      14:11:16   \n",
       "4  ID_O7N8Y918YH     57590            27                     5      16:11:38   \n",
       "\n",
       "   client_id client_type  order_license_status  order_carrier_type  \\\n",
       "0     593630    Business                     0                   2   \n",
       "1     837729    Personal                     0                   1   \n",
       "2     695129    Personal                     0                   2   \n",
       "3    1504660    Personal                     0                   2   \n",
       "4      36869    Business                     0                   2   \n",
       "\n",
       "  vendor_type  ...  rider_long  pickup_lat  pickup_long  drop_off_lat  \\\n",
       "0        Bike  ...  -17.228539  -42.692371   -17.248305    -42.687442   \n",
       "1        Bike  ...  -17.288252  -42.784046   -17.290121    -42.673267   \n",
       "2        Bike  ...  -17.287848  -42.765204   -17.293784    -42.813953   \n",
       "3        Bike  ...  -17.311920  -42.831913   -17.315311    -42.812409   \n",
       "4        Bike  ...  -17.322818  -42.836056   -17.318111    -42.828517   \n",
       "\n",
       "   drop_off_long  target  Rider ID  Active Rider Age  Average Partner Rating  \\\n",
       "0     -17.424682       1     30153                11                   10.00   \n",
       "1     -17.234595       2     20884                68                   24.13   \n",
       "2     -17.294805       1     33143               273                   24.92   \n",
       "3     -17.265441       2     96531               168                   23.76   \n",
       "4     -17.302052       0    103546                95                   24.53   \n",
       "\n",
       "   Number of Ratings  \n",
       "0                  1  \n",
       "1                229  \n",
       "2                123  \n",
       "3                175  \n",
       "4                 42  \n",
       "\n",
       "[5 rows x 25 columns]"
      ]
     },
     "execution_count": 84,
     "metadata": {},
     "output_type": "execute_result"
    }
   ],
   "source": [
    "# Merge rider dataset to train and test sets\n",
    "train = train.merge(riders, how = 'left', left_on='rider_id', right_on='Rider ID')\n",
    "test = test.merge(riders, how = 'left', left_on='rider_id', right_on='Rider ID')\n",
    "\n",
    "# Preview merged dataframe\n",
    "train.head()"
   ]
  },
  {
   "cell_type": "code",
   "execution_count": 85,
   "metadata": {},
   "outputs": [
    {
     "name": "stdout",
     "output_type": "stream",
     "text": [
      "<class 'pandas.core.frame.DataFrame'>\n",
      "Int64Index: 179867 entries, 0 to 179866\n",
      "Data columns (total 25 columns):\n",
      " #   Column                  Non-Null Count   Dtype  \n",
      "---  ------                  --------------   -----  \n",
      " 0   ID                      179867 non-null  object \n",
      " 1   order_id                179867 non-null  int64  \n",
      " 2   dispatch_day            179867 non-null  int64  \n",
      " 3   dispatch_day_of_week    179867 non-null  int64  \n",
      " 4   dispatch_time           179867 non-null  object \n",
      " 5   client_id               179867 non-null  int64  \n",
      " 6   client_type             179867 non-null  object \n",
      " 7   order_license_status    179867 non-null  int64  \n",
      " 8   order_carrier_type      179867 non-null  int64  \n",
      " 9   vendor_type             179867 non-null  object \n",
      " 10  rider_id                179867 non-null  int64  \n",
      " 11  rider_license_status    179867 non-null  int64  \n",
      " 12  rider_carrier_type      179867 non-null  int64  \n",
      " 13  rider_amount            179867 non-null  int64  \n",
      " 14  rider_lat               179867 non-null  float64\n",
      " 15  rider_long              179867 non-null  float64\n",
      " 16  pickup_lat              179867 non-null  float64\n",
      " 17  pickup_long             179867 non-null  float64\n",
      " 18  drop_off_lat            179867 non-null  float64\n",
      " 19  drop_off_long           179867 non-null  float64\n",
      " 20  target                  179867 non-null  int64  \n",
      " 21  Rider ID                179867 non-null  int64  \n",
      " 22  Active Rider Age        179867 non-null  int64  \n",
      " 23  Average Partner Rating  179867 non-null  float64\n",
      " 24  Number of Ratings       179867 non-null  int64  \n",
      "dtypes: float64(7), int64(14), object(4)\n",
      "memory usage: 35.7+ MB\n"
     ]
    }
   ],
   "source": [
    "# Inspect data\n",
    "train.info()"
   ]
  },
  {
   "cell_type": "code",
   "execution_count": 41,
   "metadata": {},
   "outputs": [
    {
     "data": {
      "text/plain": [
       "0       2021-03-27 12:10:59\n",
       "1       2021-03-27 17:10:03\n",
       "2       2021-03-27 12:02:01\n",
       "3       2021-03-27 11:10:32\n",
       "4       2021-03-27 16:12:55\n",
       "                ...        \n",
       "76786   2021-03-27 10:02:02\n",
       "76787   2021-03-27 12:08:30\n",
       "76788   2021-03-27 11:02:59\n",
       "76789   2021-03-27 09:02:34\n",
       "76790   2021-03-27 12:02:54\n",
       "Name: dispatch_time, Length: 76791, dtype: datetime64[ns]"
      ]
     },
     "execution_count": 41,
     "metadata": {},
     "output_type": "execute_result"
    }
   ],
   "source": [
    "# Convert object datatypes to integers\n",
    "pd.to_datetime(train['dispatch_time'])\n",
    "pd.to_datetime(test['dispatch_time'])"
   ]
  },
  {
   "cell_type": "code",
   "execution_count": 86,
   "metadata": {},
   "outputs": [],
   "source": [
    "train = train.drop(['dispatch_time', 'ID'], axis = 1)\n",
    "test = test.drop(['dispatch_time','ID'], axis = 1)"
   ]
  },
  {
   "cell_type": "code",
   "execution_count": 68,
   "metadata": {},
   "outputs": [
    {
     "data": {
      "text/plain": [
       "Business    145902\n",
       "Personal     33965\n",
       "Name: client_type, dtype: int64"
      ]
     },
     "execution_count": 68,
     "metadata": {},
     "output_type": "execute_result"
    }
   ],
   "source": [
    "# Preview object datatype column\n",
    "train['client_type'].value_counts()"
   ]
  },
  {
   "cell_type": "code",
   "execution_count": 87,
   "metadata": {
    "id": "ndd1PymsLRiN"
   },
   "outputs": [],
   "source": [
    "# One hot encoding\n",
    "train = pd.get_dummies(train, columns=['client_type', 'vendor_type'])\n",
    "test = pd.get_dummies(test, columns=['client_type', 'vendor_type'])"
   ]
  },
  {
   "cell_type": "code",
   "execution_count": 70,
   "metadata": {},
   "outputs": [
    {
     "data": {
      "text/plain": [
       "0         1\n",
       "1         2\n",
       "2         1\n",
       "3         2\n",
       "4         0\n",
       "         ..\n",
       "179862    2\n",
       "179863    0\n",
       "179864    1\n",
       "179865    0\n",
       "179866    2\n",
       "Name: target, Length: 179867, dtype: int64"
      ]
     },
     "execution_count": 70,
     "metadata": {},
     "output_type": "execute_result"
    }
   ],
   "source": [
    "train['target']"
   ]
  },
  {
   "cell_type": "code",
   "execution_count": 88,
   "metadata": {},
   "outputs": [],
   "source": [
    "# Split the data using all but the target column\n",
    "X = train.drop('target', axis = 1)\n",
    "y = train['target']\n"
   ]
  },
  {
   "cell_type": "code",
   "execution_count": 89,
   "metadata": {},
   "outputs": [
    {
     "name": "stdout",
     "output_type": "stream",
     "text": [
      "(143893, 23)\n",
      "(35974, 23)\n",
      "(143893,)\n",
      "(35974,)\n"
     ]
    }
   ],
   "source": [
    "X_train, X_test, y_train, y_test = train_test_split(X, y, test_size = 0.2, random_state = 3031)\n",
    "\n",
    "print(X_train.shape)\n",
    "print(X_test.shape)\n",
    "print(y_train.shape)\n",
    "print(y_test.shape)"
   ]
  },
  {
   "cell_type": "code",
   "execution_count": 50,
   "metadata": {},
   "outputs": [],
   "source": [
    "from sklearn.ensemble import GradientBoostingClassifier"
   ]
  },
  {
   "cell_type": "code",
   "execution_count": 72,
   "metadata": {},
   "outputs": [],
   "source": [
    "grb = GradientBoostingClassifier(n_estimators=500, learning_rate=0.01, max_depth=7, max_features=5)"
   ]
  },
  {
   "cell_type": "code",
   "execution_count": 100,
   "metadata": {},
   "outputs": [
    {
     "data": {
      "text/plain": [
       "GradientBoostingClassifier(learning_rate=0.01, max_depth=7, max_features=5,\n",
       "                           n_estimators=500)"
      ]
     },
     "execution_count": 100,
     "metadata": {},
     "output_type": "execute_result"
    }
   ],
   "source": [
    "grb.fit(X_train, y_train)"
   ]
  },
  {
   "cell_type": "code",
   "execution_count": 92,
   "metadata": {},
   "outputs": [
    {
     "data": {
      "text/plain": [
       "LGBMClassifier(random_state=3031)"
      ]
     },
     "execution_count": 92,
     "metadata": {},
     "output_type": "execute_result"
    }
   ],
   "source": [
    "model = LGBMClassifier(random_state=3031)\n",
    "model.fit(X_train, y_train)"
   ]
  },
  {
   "cell_type": "code",
   "execution_count": 8,
   "metadata": {
    "colab": {
     "base_uri": "https://localhost:8080/"
    },
    "id": "6odSlKUfGgCU",
    "outputId": "ae2b5129-8c2a-497a-e4c4-e0424a65cf09"
   },
   "outputs": [
    {
     "data": {
      "text/plain": [
       "0.6144437649413466"
      ]
     },
     "execution_count": 8,
     "metadata": {
      "tags": []
     },
     "output_type": "execute_result"
    }
   ],
   "source": [
    "# Split data\n",
    "main_cols = train.columns.difference(['ID', 'order_id', 'rider_id', 'Rider ID', 'target', 'dispatch_time',\t'client_id']).tolist()\n",
    "X = train[main_cols]\n",
    "y = train.target\n",
    "X_train, X_test, y_train, y_test = train_test_split(X, y, test_size = 0.2, random_state = 3031)\n",
    "\n",
    "# Train a model\n",
    "model = LGBMClassifier(random_state=3031)\n",
    "model.fit(X_train, y_train)\n",
    "\n",
    "# Make predictions\n",
    "y_pred = model.predict(X_test)\n",
    "\n",
    "# Check score\n",
    "accuracy_score(y_test, y_pred)"
   ]
  },
  {
   "cell_type": "code",
   "execution_count": 93,
   "metadata": {},
   "outputs": [],
   "source": [
    "y_pred = model.predict(X_test)"
   ]
  },
  {
   "cell_type": "code",
   "execution_count": 94,
   "metadata": {},
   "outputs": [
    {
     "data": {
      "text/plain": [
       "0.6255629065436148"
      ]
     },
     "execution_count": 94,
     "metadata": {},
     "output_type": "execute_result"
    }
   ],
   "source": [
    "accuracy_score(y_test, y_pred)"
   ]
  },
  {
   "cell_type": "code",
   "execution_count": 96,
   "metadata": {
    "id": "llaGERIUGpua"
   },
   "outputs": [],
   "source": [
    "# Make predictions in test set and prepare submission file\n",
    "predictions = model.predict(test)\n",
    "sub_file = ss.copy()\n",
    "sub_file.target = predictions\n",
    "sub_file.to_csv('Baseline.csv', index = False)"
   ]
  },
  {
   "cell_type": "code",
   "execution_count": 97,
   "metadata": {},
   "outputs": [
    {
     "name": "stdout",
     "output_type": "stream",
     "text": [
      "0:\tlearn: 1.0958024\ttest: 1.0957679\tbest: 1.0957679 (0)\ttotal: 495ms\tremaining: 16m 29s\n",
      "200:\tlearn: 0.9327506\ttest: 0.9318528\tbest: 0.9318528 (200)\ttotal: 35.9s\tremaining: 5m 21s\n",
      "400:\tlearn: 0.9037376\ttest: 0.9039521\tbest: 0.9039521 (400)\ttotal: 1m 9s\tremaining: 4m 35s\n",
      "600:\tlearn: 0.8866441\ttest: 0.8880620\tbest: 0.8880620 (600)\ttotal: 1m 41s\tremaining: 3m 56s\n",
      "800:\tlearn: 0.8739270\ttest: 0.8765248\tbest: 0.8765248 (800)\ttotal: 2m 14s\tremaining: 3m 21s\n",
      "1000:\tlearn: 0.8638343\ttest: 0.8677257\tbest: 0.8677257 (1000)\ttotal: 2m 47s\tremaining: 2m 46s\n",
      "1200:\tlearn: 0.8553160\ttest: 0.8605034\tbest: 0.8605034 (1200)\ttotal: 3m 25s\tremaining: 2m 16s\n",
      "1400:\tlearn: 0.8477892\ttest: 0.8543650\tbest: 0.8543650 (1400)\ttotal: 4m 2s\tremaining: 1m 43s\n",
      "1600:\tlearn: 0.8412418\ttest: 0.8493518\tbest: 0.8493518 (1600)\ttotal: 4m 40s\tremaining: 1m 9s\n",
      "1800:\tlearn: 0.8353864\ttest: 0.8450704\tbest: 0.8450704 (1800)\ttotal: 5m 13s\tremaining: 34.7s\n",
      "1999:\tlearn: 0.8300985\ttest: 0.8414504\tbest: 0.8414504 (1999)\ttotal: 5m 47s\tremaining: 0us\n",
      "\n",
      "bestTest = 0.841450382\n",
      "bestIteration = 1999\n",
      "\n"
     ]
    },
    {
     "data": {
      "text/plain": [
       "<catboost.core.CatBoostClassifier at 0x19421b90190>"
      ]
     },
     "execution_count": 97,
     "metadata": {},
     "output_type": "execute_result"
    }
   ],
   "source": [
    "from catboost import CatBoostClassifier\n",
    "cat_model = CatBoostClassifier(iterations=2000, learning_rate=0.01, max_depth=7)\n",
    "cat_model.fit(X_train, y_train, eval_set=(X_test, y_test), verbose=200)"
   ]
  },
  {
   "cell_type": "code",
   "execution_count": 98,
   "metadata": {},
   "outputs": [],
   "source": [
    "catboost_pred = cat_model.predict(X_test)"
   ]
  },
  {
   "cell_type": "code",
   "execution_count": 99,
   "metadata": {},
   "outputs": [
    {
     "data": {
      "text/plain": [
       "0.6182798687941291"
      ]
     },
     "execution_count": 99,
     "metadata": {},
     "output_type": "execute_result"
    }
   ],
   "source": [
    "accuracy_score(y_test, catboost_pred)"
   ]
  },
  {
   "cell_type": "code",
   "execution_count": 101,
   "metadata": {},
   "outputs": [],
   "source": [
    "grb_pred = grb.predict(X_test)"
   ]
  },
  {
   "cell_type": "code",
   "execution_count": 102,
   "metadata": {},
   "outputs": [
    {
     "data": {
      "text/plain": [
       "0.6142213821093012"
      ]
     },
     "execution_count": 102,
     "metadata": {},
     "output_type": "execute_result"
    }
   ],
   "source": [
    "accuracy_score(y_test, grb_pred)"
   ]
  },
  {
   "cell_type": "code",
   "execution_count": 103,
   "metadata": {},
   "outputs": [],
   "source": [
    "predictions = cat_model.predict(test)\n",
    "sub_file = ss.copy()\n",
    "sub_file.target = predictions\n",
    "sub_file.to_csv('Catboost_Model.csv', index = False)"
   ]
  },
  {
   "cell_type": "code",
   "execution_count": 104,
   "metadata": {},
   "outputs": [],
   "source": [
    "predictions = grb.predict(test)\n",
    "sub_file = ss.copy()\n",
    "sub_file.target = predictions\n",
    "sub_file.to_csv('GRB_Model.csv', index = False)"
   ]
  },
  {
   "cell_type": "code",
   "execution_count": null,
   "metadata": {},
   "outputs": [],
   "source": []
  }
 ],
 "metadata": {
  "colab": {
   "collapsed_sections": [],
   "name": "Sendy_UmojaHack_StarterNotebook.ipynb",
   "provenance": [],
   "toc_visible": true
  },
  "kernelspec": {
   "display_name": "Python 3",
   "language": "python",
   "name": "python3"
  },
  "language_info": {
   "codemirror_mode": {
    "name": "ipython",
    "version": 3
   },
   "file_extension": ".py",
   "mimetype": "text/x-python",
   "name": "python",
   "nbconvert_exporter": "python",
   "pygments_lexer": "ipython3",
   "version": "3.8.5"
  }
 },
 "nbformat": 4,
 "nbformat_minor": 1
}
